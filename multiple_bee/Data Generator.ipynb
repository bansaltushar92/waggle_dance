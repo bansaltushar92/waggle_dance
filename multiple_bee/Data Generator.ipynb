{
 "cells": [
  {
   "cell_type": "code",
   "execution_count": null,
   "metadata": {},
   "outputs": [],
   "source": [
    "import sys\n",
    "import cv2\n",
    "import math\n",
    "import os\n",
    "import numpy as np\n",
    "import pandas as pd\n",
    "import random\n",
    "from sklearn import feature_extraction\n",
    "import matplotlib.pyplot as plt\n",
    "%matplotlib inline"
   ]
  },
  {
   "cell_type": "code",
   "execution_count": null,
   "metadata": {
    "scrolled": true
   },
   "outputs": [],
   "source": [
    "cap = cv2.VideoCapture('videos/newvid_out3.MP4')\n",
    "\n",
    "cut_size = 40\n",
    "frame_num = 0\n",
    "COLUMN_NAMES = ['frame_num', 'x','y']\n",
    "negative_df = pd.DataFrame(columns=COLUMN_NAMES)\n",
    "\n",
    "for _ in range(1000):\n",
    "    ret, img = cap.read()\n",
    "    if ret:\n",
    "        img_gray = cv2.cvtColor(img, cv2.COLOR_BGR2GRAY)\n",
    "        if frame_num % 10 == 0:\n",
    "            print frame_num\n",
    "            for _ in range(0,20):\n",
    "                rand_x = np.random.randint(low=cut_size+1, high=img_gray.shape[1]-cut_size, size=1)[0]\n",
    "                rand_y = np.random.randint(low=cut_size+1, high=img_gray.shape[0]-cut_size, size=1)[0]\n",
    "                negative_df = negative_df.append({'frame_num': frame_num, 'x': rand_x, 'y': rand_y}, ignore_index=True)\n",
    "        frame_num+=1\n",
    "cv2.destroyAllWindows()\n",
    "cv2.waitKey(1)"
   ]
  },
  {
   "cell_type": "code",
   "execution_count": null,
   "metadata": {},
   "outputs": [],
   "source": [
    "negative_df.to_csv('mini_images/negatives.csv')"
   ]
  },
  {
   "cell_type": "markdown",
   "metadata": {
    "collapsed": true
   },
   "source": [
    "### Get final negatives"
   ]
  },
  {
   "cell_type": "code",
   "execution_count": null,
   "metadata": {},
   "outputs": [],
   "source": [
    "cap = cv2.VideoCapture('videos/newvid_out3.MP4')\n",
    "\n",
    "cut_size = 40\n",
    "frame_num = 0\n",
    "\n",
    "for _ in range(1000):\n",
    "    ret, img = cap.read()\n",
    "    if ret:\n",
    "        print frame_num\n",
    "        img_gray = cv2.cvtColor(img, cv2.COLOR_BGR2GRAY)\n",
    "        for trail in range(5,125,5):\n",
    "            if negative_df[(negative_df['frame_num'] == frame_num+trail)].shape[0] > 0:\n",
    "                for idx, row in negative_df[(negative_df['frame_num'] == frame_num+trail)].iterrows():\n",
    "                    img_square = img_gray[row['y']-cut_size:row['y']+cut_size, row['x']-cut_size:row['x']+cut_size]\n",
    "                    path = '/mini_images/final_negatives_transitions/'\n",
    "                    cv2.imwrite(os.path.join(path , str(frame_num+trail) + '_'+ str(row['x']) + '_'+ str(row['y']) + '_t'+ str(trail) + '.jpg'), img_square)\n",
    "        for lead in range(5,125,5):\n",
    "            if negative_df[(negative_df['frame_num'] == frame_num-lead)].shape[0] > 0:\n",
    "                for idx, row in negative_df[(negative_df['frame_num'] == frame_num-lead)].iterrows():\n",
    "                    img_square = img_gray[row['y']-cut_size:row['y']+cut_size, row['x']-cut_size:row['x']+cut_size]\n",
    "                    path = '/mini_images/final_negatives_transitions/'\n",
    "                    cv2.imwrite(os.path.join(path , str(frame_num-lead) + '_'+ str(row['x']) + '_'+ str(row['y']) + '_l'+ str(lead) + '.jpg'), img_square)\n",
    "        if negative_df[(negative_df['frame_num'] == frame_num)].shape[0] > 0:\n",
    "            for idx, row in negative_df[(negative_df['frame_num'] == frame_num)].iterrows():\n",
    "                img_square = img_gray[row['y']-cut_size:row['y']+cut_size, row['x']-cut_size:row['x']+cut_size]\n",
    "                path = '/mini_images/final_negatives/'\n",
    "                cv2.imwrite(os.path.join(path , str(frame_num) + '_'+ str(row['x']) + '_'+ str(row['y']) + '.jpg'), img_square)\n",
    "        frame_num+=1\n",
    "cv2.destroyAllWindows()\n",
    "cv2.waitKey(1)"
   ]
  },
  {
   "cell_type": "code",
   "execution_count": null,
   "metadata": {},
   "outputs": [],
   "source": [
    "ann = pd.read_csv('videos/newvid_out3_annot.csv')"
   ]
  },
  {
   "cell_type": "code",
   "execution_count": null,
   "metadata": {},
   "outputs": [],
   "source": [
    "positive_df = ann.loc[((ann['behavior'] == 'wS') | (ann['behavior'] == 'wE')), ['frame', 'x', 'y', 'behavior']]"
   ]
  },
  {
   "cell_type": "code",
   "execution_count": null,
   "metadata": {},
   "outputs": [],
   "source": [
    "positive_df.columns = ['frame_num', 'x', 'y', 'behavior']\n",
    "positive_df['x'] = positive_df['x']+1920/2\n",
    "positive_df['y'] = 1080/2-positive_df['y']\n",
    "positive_df.x = positive_df.x.astype(int)\n",
    "positive_df.y = positive_df.y.astype(int)"
   ]
  },
  {
   "cell_type": "code",
   "execution_count": null,
   "metadata": {
    "scrolled": true
   },
   "outputs": [],
   "source": [
    "positive_df"
   ]
  },
  {
   "cell_type": "code",
   "execution_count": null,
   "metadata": {
    "scrolled": true
   },
   "outputs": [],
   "source": [
    "cap = cv2.VideoCapture('videos/newvid_out3.MP4')\n",
    "\n",
    "cut_size = 40\n",
    "frame_num = 0\n",
    "\n",
    "for _ in range(10000):\n",
    "    ret, img = cap.read()\n",
    "    if ret:\n",
    "        print frame_num\n",
    "        img_gray = cv2.cvtColor(img, cv2.COLOR_BGR2GRAY)\n",
    "        for trail in range(5,125,5):\n",
    "            if positive_df[(positive_df['frame_num'] == frame_num+trail)].shape[0] > 0:\n",
    "                for idx, row in positive_df[(positive_df['frame_num'] == frame_num+trail)].iterrows():\n",
    "                    print row['y']-cut_size,row['y']+cut_size, row['x']-cut_size,row['x']+cut_size\n",
    "                    img_square = img_gray[row['y']-cut_size:row['y']+cut_size, row['x']-cut_size:row['x']+cut_size]\n",
    "                    path = 'mini_images/final_positives_transitions/'\n",
    "                    cv2.imwrite(os.path.join(path , str(frame_num+trail) + '_'+ str(row['x']) + '_'+ str(row['y']) + '_t'+ str(trail) + '.jpg'), img_square)\n",
    "        for lead in range(5,125,5):\n",
    "            if positive_df[(positive_df['frame_num'] == frame_num-lead)].shape[0] > 0:\n",
    "                for idx, row in positive_df[(positive_df['frame_num'] == frame_num-lead)].iterrows():\n",
    "                    img_square = img_gray[row['y']-cut_size:row['y']+cut_size, row['x']-cut_size:row['x']+cut_size]\n",
    "                    path = 'mini_images/final_positives_transitions/'\n",
    "                    cv2.imwrite(os.path.join(path , str(frame_num-lead) + '_'+ str(row['x']) + '_'+ str(row['y']) + '_l'+ str(lead) + '.jpg'), img_square)\n",
    "        if positive_df[(positive_df['frame_num'] == frame_num)].shape[0] > 0:\n",
    "            for idx, row in positive_df[(positive_df['frame_num'] == frame_num)].iterrows():\n",
    "                img_square = img_gray[row['y']-cut_size:row['y']+cut_size, row['x']-cut_size:row['x']+cut_size]\n",
    "                path = 'mini_images/final_positives/'\n",
    "                cv2.imwrite(os.path.join(path , str(frame_num) + '_'+ str(row['x']) + '_'+ str(row['y']) + '.jpg'), img_square)\n",
    "        frame_num+=1\n",
    "cv2.destroyAllWindows()\n",
    "cv2.waitKey(1)"
   ]
  },
  {
   "cell_type": "markdown",
   "metadata": {},
   "source": [
    "## Temporal Data Generation"
   ]
  },
  {
   "cell_type": "code",
   "execution_count": null,
   "metadata": {},
   "outputs": [],
   "source": [
    "cap = cv2.VideoCapture('videos/newvid_out3.MP4')\n",
    "\n",
    "cut_size = 40\n",
    "frame_num = 0\n",
    "\n",
    "for _ in range(10000):\n",
    "    ret, img = cap.read()\n",
    "    if ret:\n",
    "        print frame_num\n",
    "        img_gray = cv2.cvtColor(img, cv2.COLOR_BGR2GRAY)\n",
    "        \n",
    "        if positive_df[(positive_df['frame_num'] == frame_num + 5) & (positive_df['behavior'] == 'wE')].shape[0] > 0:\n",
    "            for idx, row in positive_df[(positive_df['frame_num'] == frame_num + 5) & (positive_df['behavior'] == 'wE')].iterrows():\n",
    "                img_square = img_gray[row['y']-cut_size:row['y']+cut_size, row['x']-cut_size:row['x']+cut_size]\n",
    "                path = 'mini_images/final_positives_diff_5/'\n",
    "                cv2.imwrite(os.path.join(path , str(frame_num+5) + '_'+ str(row['x']) + '_'+ str(row['y']) + '.jpg'), img_square)\n",
    "        \n",
    "        if positive_df[(positive_df['frame_num'] == frame_num - 5) & (positive_df['behavior'] == 'wS')].shape[0] > 0:\n",
    "            for idx, row in positive_df[(positive_df['frame_num'] == frame_num - 5) & (positive_df['behavior'] == 'wS')].iterrows():\n",
    "                img_square = img_gray[row['y']-cut_size:row['y']+cut_size, row['x']-cut_size:row['x']+cut_size]\n",
    "                path = 'mini_images/final_positives_diff_5/'\n",
    "                cv2.imwrite(os.path.join(path , str(frame_num-5) + '_'+ str(row['x']) + '_'+ str(row['y']) + '.jpg'), img_square)\n",
    "\n",
    "        frame_num+=1\n",
    "cv2.destroyAllWindows()\n",
    "cv2.waitKey(1)"
   ]
  },
  {
   "cell_type": "markdown",
   "metadata": {},
   "source": [
    "### Renaming images\n"
   ]
  },
  {
   "cell_type": "code",
   "execution_count": null,
   "metadata": {},
   "outputs": [],
   "source": [
    "img_list = glob.glob('mini_images/final_positives_transitions/*')\n",
    "path = 'mini_images/transitions_renamed/'\n",
    "\n",
    "\n",
    "for img_name in img_list:\n",
    "    img = cv2.imread(img_name)\n",
    "    img_name_list = img_name.split('/')[-1].split('.')[0].split('_')\n",
    "    if img_name_list[3][0:1] == 't':\n",
    "        cv2.imwrite(os.path.join(path , str(int(img_name_list[0])-int(img_name_list[3][1:])) + '_'+ img_name_list[1] + '_'+ img_name_list[2] + '.jpg'), img)\n",
    "    elif img_name_list[3][0:1] == 'l':\n",
    "        cv2.imwrite(os.path.join(path , str(int(img_name_list[0])+int(img_name_list[3][1:])) + '_'+ img_name_list[1] + '_'+ img_name_list[2] + '.jpg'), img)\n",
    "    else:\n",
    "        print 'not good'"
   ]
  },
  {
   "cell_type": "code",
   "execution_count": null,
   "metadata": {},
   "outputs": [],
   "source": [
    "img_list = glob.glob('mini_images/final_negatives_transitions/*')\n",
    "path = 'mini_images/transitions_renamed/'\n",
    "\n",
    "\n",
    "for img_name in img_list:\n",
    "    img = cv2.imread(img_name)\n",
    "    img_name_list = img_name.split('/')[-1].split('.')[0].split('_')\n",
    "    if img_name_list[3][0:1] == 't':\n",
    "        cv2.imwrite(os.path.join(path , str(int(img_name_list[0])-int(img_name_list[3][1:])) + '_'+ img_name_list[1] + '_'+ img_name_list[2] + '.jpg'), img)\n",
    "    elif img_name_list[3][0:1] == 'l':\n",
    "        cv2.imwrite(os.path.join(path , str(int(img_name_list[0])+int(img_name_list[3][1:])) + '_'+ img_name_list[1] + '_'+ img_name_list[2] + '.jpg'), img)\n",
    "    else:\n",
    "        print 'not good'"
   ]
  },
  {
   "cell_type": "code",
   "execution_count": null,
   "metadata": {},
   "outputs": [],
   "source": []
  }
 ],
 "metadata": {
  "kernelspec": {
   "display_name": "Python [Root]",
   "language": "python",
   "name": "Python [Root]"
  },
  "language_info": {
   "codemirror_mode": {
    "name": "ipython",
    "version": 2
   },
   "file_extension": ".py",
   "mimetype": "text/x-python",
   "name": "python",
   "nbconvert_exporter": "python",
   "pygments_lexer": "ipython2",
   "version": "2.7.14"
  }
 },
 "nbformat": 4,
 "nbformat_minor": 2
}
