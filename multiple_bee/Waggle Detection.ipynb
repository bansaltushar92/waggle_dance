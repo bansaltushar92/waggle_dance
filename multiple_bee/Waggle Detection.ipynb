{
 "cells": [
  {
   "cell_type": "code",
   "execution_count": null,
   "metadata": {},
   "outputs": [],
   "source": [
    "import sys\n",
    "import cv2\n",
    "import math\n",
    "import os\n",
    "import numpy as np\n",
    "import pandas as pd\n",
    "import random\n",
    "from sklearn import feature_extraction\n",
    "import matplotlib.pyplot as plt\n",
    "%matplotlib inline"
   ]
  },
  {
   "cell_type": "markdown",
   "metadata": {},
   "source": [
    "## Preprocessing Images"
   ]
  },
  {
   "cell_type": "code",
   "execution_count": null,
   "metadata": {},
   "outputs": [],
   "source": [
    "from skimage.measure import compare_ssim\n",
    "import glob\n",
    "\n",
    "img_list = glob.glob('mini_images/final_positives_diff_5/*')\n",
    "transition_path = 'mini_images/transitions_renamed/'\n",
    "\n",
    "diff_data = []\n",
    "labels = np.array([])\n",
    "\n",
    "for img_name in img_list:\n",
    "    img = cv2.imread(img_name)[:,:,0]\n",
    "    img_name_list = img_name.split('/')[-1].split('.')[0].split('_')\n",
    "    img_name_list[0] = str(int(img_name_list[0])-5)\n",
    "    img_prev_name = '_'.join(img_name_list) + '.jpg'\n",
    "    img_prev_name = transition_path + img_prev_name\n",
    "    img_prev = cv2.imread(img_prev_name)[:,:,0]\n",
    "    (score, diff) = compare_ssim(img, img_prev, full=True)\n",
    "    diff = (diff * 255).astype(\"uint8\")\n",
    "    diff_data.append(np.concatenate((diff.flatten(), img.flatten()), axis=0))\n",
    "    labels  = np.append(labels, [1])"
   ]
  },
  {
   "cell_type": "code",
   "execution_count": null,
   "metadata": {},
   "outputs": [],
   "source": [
    "img_list = glob.glob('mini_images/final_negatives/*')\n",
    "transition_path = 'mini_images/transitions_renamed/'\n",
    "transition_list = glob.glob('mini_images/transitions_renamed/*')\n",
    "\n",
    "\n",
    "for img_name in img_list:\n",
    "    img = cv2.imread(img_name)[:,:,0]\n",
    "    img_name_list = img_name.split('/')[-1].split('.')[0].split('_')\n",
    "    img_name_list[0] = str(int(img_name_list[0])-5)\n",
    "    img_prev_name = '_'.join(img_name_list) + '.jpg'\n",
    "    img_prev_name = transition_path + img_prev_name\n",
    "    if img_prev_name in transition_list:\n",
    "        img_prev = cv2.imread(img_prev_name)[:,:,0]\n",
    "        (score, diff) = compare_ssim(img, img_prev, full=True)\n",
    "        diff = (diff * 255).astype(\"uint8\")\n",
    "#         img = cv2.normalize(img, None, alpha=0, beta=255, norm_type=cv2.NORM_MINMAX)        # Normalize data\n",
    "        diff_data.append(np.concatenate((diff.flatten(), img.flatten()), axis=0))\n",
    "        labels  = np.append(labels, [0])"
   ]
  },
  {
   "cell_type": "markdown",
   "metadata": {},
   "source": [
    "### Normalize Data"
   ]
  },
  {
   "cell_type": "code",
   "execution_count": null,
   "metadata": {},
   "outputs": [],
   "source": [
    "norm_data = []\n",
    "\n",
    "for row in total_data:\n",
    "    img_norm = cv2.normalize(row, None, alpha=0, beta=255, norm_type=cv2.NORM_MINMAX).flatten()\n",
    "    norm_data.append(img_norm)"
   ]
  },
  {
   "cell_type": "markdown",
   "metadata": {},
   "source": [
    "### Histogram"
   ]
  },
  {
   "cell_type": "code",
   "execution_count": null,
   "metadata": {},
   "outputs": [],
   "source": [
    "def compute_hist(img):\n",
    "    return cv2.calcHist([img],[0],None,[256],[0,256]).flatten()"
   ]
  },
  {
   "cell_type": "code",
   "execution_count": null,
   "metadata": {},
   "outputs": [],
   "source": [
    "def compute_hist_multiple(img):\n",
    "    return np.concatenate((cv2.calcHist([img[:6400]],[0],None,[256],[0,256]).flatten(),\n",
    "                          cv2.calcHist([img[6400:]],[0],None,[256],[0,256]).flatten()), axis=0)"
   ]
  },
  {
   "cell_type": "code",
   "execution_count": null,
   "metadata": {},
   "outputs": [],
   "source": [
    "hist_data = []\n",
    "\n",
    "for row in diff_data:\n",
    "    hist_data.append(compute_hist_multiple(row))"
   ]
  },
  {
   "cell_type": "markdown",
   "metadata": {},
   "source": [
    "### Classification"
   ]
  },
  {
   "cell_type": "code",
   "execution_count": null,
   "metadata": {},
   "outputs": [],
   "source": [
    "# Classification\n",
    "from sklearn.ensemble import RandomForestClassifier\n",
    "from sklearn.model_selection import train_test_split\n",
    "from xgboost import XGBClassifier\n",
    "\n",
    "X_train, X_test, y_train, y_test = train_test_split(hist_data, labels, test_size=0.3)\n",
    "\n",
    "clf_xgb = XGBClassifier(max_depth=3, learning_rate=0.2)\n",
    "clf_rf = RandomForestClassifier(n_estimators=100, max_depth=10, min_samples_split=5, random_state=0, class_weight='balanced')\n",
    "clf_xgb.fit(np.array(X_train), y_train)\n",
    "clf_rf.fit(np.array(X_train), y_train)"
   ]
  },
  {
   "cell_type": "code",
   "execution_count": null,
   "metadata": {},
   "outputs": [],
   "source": [
    "pred_xgb = clf_xgb.predict(np.array(X_test))\n",
    "pred_rf = clf_rf.predict(np.array(X_test))\n",
    "pred = np.multiply(pred_xgb, pred_rf)"
   ]
  },
  {
   "cell_type": "code",
   "execution_count": null,
   "metadata": {},
   "outputs": [],
   "source": [
    "print sum(pred_xgb)*1.0/len(pred_xgb)\n",
    "print sum(y_test)*1.0/len(y_test)"
   ]
  },
  {
   "cell_type": "code",
   "execution_count": null,
   "metadata": {},
   "outputs": [],
   "source": [
    "print sum(pred_rf)*1.0/len(pred_rf)\n",
    "print sum(y_test)*1.0/len(y_test)"
   ]
  },
  {
   "cell_type": "code",
   "execution_count": null,
   "metadata": {},
   "outputs": [],
   "source": [
    "print sum(pred == y_test)*1.0/len(y_test)"
   ]
  },
  {
   "cell_type": "code",
   "execution_count": null,
   "metadata": {},
   "outputs": [],
   "source": [
    "from sklearn.metrics import confusion_matrix\n",
    "cm = confusion_matrix(y_test, pred)\n",
    "print cm\n",
    "print 'missed waggles', cm[1,0]*1.0/(cm[1,0]+cm[1,1])"
   ]
  },
  {
   "cell_type": "markdown",
   "metadata": {},
   "source": [
    "## Batch Processing"
   ]
  },
  {
   "cell_type": "code",
   "execution_count": null,
   "metadata": {
    "scrolled": true
   },
   "outputs": [],
   "source": [
    "# Predicting frames of video -> last five frames made 0\n",
    "\n",
    "\n",
    "cap = cv2.VideoCapture('videos/newvid_out3.MP4')\n",
    "frame_num = 0\n",
    "cut_size = 40\n",
    "last_five_frames = []\n",
    "this_w_pred = {}\n",
    "prev_w_pred = {}\n",
    "\n",
    "\n",
    "test_data_list = []\n",
    "\n",
    "\n",
    "for frame_num in range(0,3000):\n",
    "    ret, img = cap.read()\n",
    "    if ret:\n",
    "        print frame_num\n",
    "        img_gray = cv2.cvtColor(img, cv2.COLOR_BGR2GRAY)\n",
    "        if frame_num % 10 == 0 and frame_num > 0:\n",
    "            for cnt_x in range(cut_size, img_gray.shape[1]-cut_size, cut_size/2):\n",
    "                for cnt_y in range(cut_size, img_gray.shape[0]-cut_size, cut_size/2):\n",
    "                    img_square = img_gray[cnt_y-cut_size:cnt_y+cut_size, cnt_x-cut_size:cnt_x+cut_size]\n",
    "                    img_prev_square = last_five_frames[0][cnt_y-cut_size:cnt_y+cut_size, cnt_x-cut_size:cnt_x+cut_size]\n",
    "                    (score, diff) = compare_ssim(img_square, img_prev_square, full=True)\n",
    "                    diff = (diff * 255).astype(\"uint8\")\n",
    "                    test_input = compute_hist_multiple(np.concatenate((diff.flatten(), img_square.flatten()), axis=0)).reshape(1,512)\n",
    "                    test_data = np.concatenate((np.array([[frame_num, cnt_x, cnt_y]]),test_input), 1)\n",
    "                    test_data_list.append(test_data[0])\n",
    "            last_five_frames = last_five_frames[-5:]\n",
    "            prev_w_pred = this_w_pred\n",
    "        last_five_frames.append(img_gray)\n"
   ]
  },
  {
   "cell_type": "code",
   "execution_count": null,
   "metadata": {},
   "outputs": [],
   "source": [
    "columns = ['frame_num','x', 'y'] + range(512)\n",
    "test_data_df = pd.DataFrame(test_data_list, columns=columns)"
   ]
  },
  {
   "cell_type": "code",
   "execution_count": null,
   "metadata": {},
   "outputs": [],
   "source": [
    "train_cols = range(512)                    \n",
    "preds = clf_xgb.predict(test_data_df[train_cols].as_matrix())*clf_rf.predict(test_data_df[train_cols].as_matrix())\n",
    "test_data_df['preds'] = preds"
   ]
  },
  {
   "cell_type": "code",
   "execution_count": null,
   "metadata": {},
   "outputs": [],
   "source": [
    "cap = cv2.VideoCapture('videos/newvid_out3.MP4')\n",
    "fourcc = cv2.VideoWriter_fourcc(*'XVID')\n",
    "video = cv2.VideoWriter('batch_test.avi',fourcc,30.0,(960,540))\n",
    "for frame_num in range(0,200):\n",
    "    ret, img = cap.read()\n",
    "    if ret:\n",
    "        for idx, row in test_data_df[(test_data_df['preds'] == 1.0) & (test_data_df['frame_num'] == frame_num)].iterrows():\n",
    "            cv2.circle(img,(int(row['x']),int(row['y'])),5,(0,0,255),-1)\n",
    "        video.write(cv2.resize(img, (960, 540)))\n",
    "video.release()"
   ]
  },
  {
   "cell_type": "code",
   "execution_count": null,
   "metadata": {},
   "outputs": [],
   "source": []
  }
 ],
 "metadata": {
  "anaconda-cloud": {},
  "kernelspec": {
   "display_name": "Python [Root]",
   "language": "python",
   "name": "Python [Root]"
  },
  "language_info": {
   "codemirror_mode": {
    "name": "ipython",
    "version": 2
   },
   "file_extension": ".py",
   "mimetype": "text/x-python",
   "name": "python",
   "nbconvert_exporter": "python",
   "pygments_lexer": "ipython2",
   "version": "2.7.14"
  }
 },
 "nbformat": 4,
 "nbformat_minor": 2
}
